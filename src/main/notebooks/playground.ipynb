{
 "cells": [
  {
   "metadata": {},
   "cell_type": "markdown",
   "source": "# Imports and functions"
  },
  {
   "metadata": {
    "ExecuteTime": {
     "end_time": "2025-03-02T06:46:00.622343811Z",
     "start_time": "2025-03-02T06:45:58.380964030Z"
    }
   },
   "cell_type": "code",
   "source": [
    "%use dataframe\n",
    "\n",
    "import java.net.URLDecoder\n",
    "import java.net.URLEncoder\n",
    "import org.commonmark.Extension\n",
    "import org.commonmark.ext.footnotes.FootnotesExtension\n",
    "import org.commonmark.ext.front.matter.YamlFrontMatterExtension\n",
    "import org.commonmark.ext.front.matter.YamlFrontMatterVisitor\n",
    "import org.commonmark.ext.gfm.strikethrough.StrikethroughExtension\n",
    "import org.commonmark.ext.gfm.tables.TablesExtension\n",
    "import org.commonmark.ext.task.list.items.TaskListItemsExtension\n",
    "import org.commonmark.node.AbstractVisitor\n",
    "import org.commonmark.node.CustomNode\n",
    "import org.commonmark.node.Link\n",
    "import org.commonmark.node.Node\n",
    "import org.commonmark.node.Text\n",
    "import org.commonmark.parser.Parser\n",
    "import org.commonmark.renderer.html.HtmlRenderer\n",
    "import org.commonmark.renderer.markdown.MarkdownRenderer\n",
    "import sims.michael.joplin2obsidian.TestConfig"
   ],
   "outputs": [],
   "execution_count": 6
  },
  {
   "metadata": {
    "ExecuteTime": {
     "end_time": "2025-03-02T06:48:42.435617539Z",
     "start_time": "2025-03-02T06:48:42.366859684Z"
    }
   },
   "cell_type": "code",
   "source": [
    "import java.io.File\n",
    "\n",
    "val testFile = File(\"/tmp/sims.michael.joplin2obsidian.MainCommand11316666218871478507/input/Main Notebook/UTC parking receipt, 2020-06-11.md\")\n",
    "val inputDir = File(\"/tmp/sims.michael.joplin2obsidian.MainCommand11316666218871478507/input\")\n",
    "val outputDir = inputDir.parentFile.resolve(\"output\")\n",
    "val relativeTo = testFile.relativeTo(inputDir)\n",
    "val outputFile = outputDir.resolve(relativeTo)\n",
    "DISPLAY(inputDir)\n",
    "DISPLAY(testFile)\n",
    "DISPLAY(outputDir)\n",
    "DISPLAY(outputFile)"
   ],
   "outputs": [
    {
     "data": {
      "text/plain": [
       "/tmp/sims.michael.joplin2obsidian.MainCommand11316666218871478507/input"
      ]
     },
     "metadata": {},
     "output_type": "display_data"
    },
    {
     "data": {
      "text/plain": [
       "/tmp/sims.michael.joplin2obsidian.MainCommand11316666218871478507/input/Main Notebook/UTC parking receipt, 2020-06-11.md"
      ]
     },
     "metadata": {},
     "output_type": "display_data"
    },
    {
     "data": {
      "text/plain": [
       "/tmp/sims.michael.joplin2obsidian.MainCommand11316666218871478507/output"
      ]
     },
     "metadata": {},
     "output_type": "display_data"
    },
    {
     "data": {
      "text/plain": [
       "/tmp/sims.michael.joplin2obsidian.MainCommand11316666218871478507/output/Main Notebook/UTC parking receipt, 2020-06-11.md"
      ]
     },
     "metadata": {},
     "output_type": "display_data"
    }
   ],
   "execution_count": 16
  },
  {
   "metadata": {},
   "cell_type": "code",
   "source": [
    "fun displayWithLabel(label: String, data: Any) {\n",
    "    DISPLAY(\"${label.uppercase()}:\\n\")\n",
    "    DISPLAY(data)\n",
    "    DISPLAY(\"\\n\")\n",
    "}"
   ],
   "outputs": [],
   "execution_count": null
  },
  {
   "metadata": {},
   "cell_type": "code",
   "source": [
    "val extensions = listOf<Extension>(\n",
    "    TablesExtension.create(),\n",
    "    StrikethroughExtension.create(),\n",
    "    FootnotesExtension.create(),\n",
    ")\n",
    "val parser = Parser.builder().extensions(extensions).build()\n",
    "val builder = MarkdownRenderer.builder()\n",
    "val renderer = builder.extensions(extensions).build()"
   ],
   "outputs": [],
   "execution_count": null
  },
  {
   "metadata": {},
   "cell_type": "markdown",
   "source": "# List all Markdown Files"
  },
  {
   "metadata": {},
   "cell_type": "code",
   "source": "val workingDir = TestConfig.workingDirOverrideFile",
   "outputs": [],
   "execution_count": null
  },
  {
   "metadata": {},
   "cell_type": "code",
   "source": "val markdownFiles = workingDir.walk().filter { it.extension == \"md\" }.toList()",
   "outputs": [],
   "execution_count": null
  },
  {
   "metadata": {},
   "cell_type": "code",
   "source": [
    "data class MdFile(val name: String, val path: String)\n",
    "markdownFiles.map { MdFile(it.name, it.parent) }.toDataFrame()"
   ],
   "outputs": [],
   "execution_count": null
  },
  {
   "metadata": {},
   "cell_type": "markdown",
   "source": "# List of all attachments in resources"
  },
  {
   "metadata": {},
   "cell_type": "code",
   "source": [
    "data class Attachment(val name: String, val path: String, val extension: String)\n",
    "val attachments = workingDir.resolve(\"_resources\").listFiles().orEmpty().map { Attachment(it.name, it.absolutePath, it.extension) }.toDataFrame()"
   ],
   "outputs": [],
   "execution_count": null
  },
  {
   "metadata": {},
   "cell_type": "code",
   "source": "attachments",
   "outputs": [],
   "execution_count": null
  },
  {
   "metadata": {},
   "cell_type": "markdown",
   "source": "# Queries and explorations"
  },
  {
   "metadata": {},
   "cell_type": "code",
   "source": [
    "fun String.urlDecodeSpacesAndParens() = URLDecoder.decode(this, Charsets.UTF_8)\n",
    "fun String.urlEncodeSpacesAndParens() = URLEncoder.encode(this, Charsets.UTF_8).replace(\"+\", \"%20\")"
   ],
   "outputs": [],
   "execution_count": null
  },
  {
   "metadata": {},
   "cell_type": "code",
   "source": "data class LinkRow(val name: String?, val destination: String, val baseDestination: String, val nameAndBaseDestinationMatch: Boolean, val originalDestinationLooksUrlEncoded: Boolean)",
   "outputs": [],
   "execution_count": null
  },
  {
   "metadata": {},
   "cell_type": "code",
   "source": [
    "fun Node.collectLinks(): List<Link> = buildList {\n",
    "    accept(object : AbstractVisitor() {\n",
    "        override fun visit(link: Link) {\n",
    "            add(link)\n",
    "        }\n",
    "    })\n",
    "}\n",
    "\n",
    "fun Link.toLinkRow(): LinkRow {\n",
    "    val baseDestination = File(destination).name\n",
    "    val name = (firstChild as? Text)?.literal\n",
    "    return LinkRow(name, destination, baseDestination.urlDecodeSpacesAndParens(), name == baseDestination, destination.contains(\"%\"))\n",
    "}"
   ],
   "outputs": [],
   "execution_count": null
  },
  {
   "metadata": {},
   "cell_type": "markdown",
   "source": "## All links"
  },
  {
   "metadata": {},
   "cell_type": "code",
   "source": [
    "val allLinks = markdownFiles\n",
    "    .flatMap { file -> parser.parse(file.readText()).collectLinks() }\n",
    "    .map { link -> link.toLinkRow() }\n",
    "    .toDataFrame()\n",
    "allLinks"
   ],
   "outputs": [],
   "execution_count": null
  },
  {
   "metadata": {},
   "cell_type": "code",
   "source": [
    "val resourcesLinks = allLinks.filter { destination.startsWith(\"../_resources/\") }\n",
    "resourcesLinks"
   ],
   "outputs": [],
   "execution_count": null
  },
  {
   "metadata": {},
   "cell_type": "markdown",
   "source": "## Resource links with no extension"
  },
  {
   "metadata": {},
   "cell_type": "code",
   "source": "resourcesLinks.filter { File(destination).extension.isEmpty() }",
   "outputs": [],
   "execution_count": null
  },
  {
   "metadata": {},
   "cell_type": "code",
   "source": [
    "fun String.toSafeFileName(): String {\n",
    "    val invalidChars = listOf('\\\\', '/', ':', '*', '?', '\"', '<', '>', '|')\n",
    "    return this.map { if (it in invalidChars) '_' else it }.joinToString(\"\").replace(\"\\\\s+\".toRegex(), \"_\")\n",
    "}"
   ],
   "outputs": [],
   "execution_count": null
  },
  {
   "metadata": {},
   "cell_type": "markdown",
   "source": "## Resource links whos names and base destinations don't match"
  },
  {
   "metadata": {},
   "cell_type": "code",
   "source": "resourcesLinks.filter { !nameAndBaseDestinationMatch }",
   "outputs": [],
   "execution_count": null
  },
  {
   "metadata": {},
   "cell_type": "code",
   "source": [
    "val currentNames = attachments.toListOf<Attachment>().map { it.name }\n",
    "val baseDestinations = resourcesLinks.toListOf<LinkRow>().map { it.baseDestination }\n",
    "\n",
    "resourcesLinks\n",
    "    .toListOf<LinkRow>()\n",
    "    .distinctBy { it.baseDestination }\n",
    "    .fold(listOf<Pair<String, String>>()) { renames, row ->\n",
    "        val currentName = row.baseDestination\n",
    "        val extension = listOfNotNull(row.name, currentName)\n",
    "            .mapNotNull { name -> File(name).extension }\n",
    "            .first { extension -> !extension.isEmpty() }\n",
    "        val newName = currentName to \"${File(currentName).nameWithoutExtension}.$extension\"\n",
    "        renames + listOfNotNull(newName.takeIf { (old, new) -> old != new })\n",
    "    }\n",
    "    .toDataFrame()"
   ],
   "outputs": [],
   "execution_count": null
  },
  {
   "metadata": {},
   "cell_type": "markdown",
   "source": "## Number of unique base destinations and number of unique new names"
  },
  {
   "metadata": {},
   "cell_type": "code",
   "source": [
    "dataFrameOf(\n",
    "    \"unique base destinations\" to listOf(newNames.countDistinct { baseDestination }),\n",
    "    \"unique new names\" to listOf(newNames.countDistinct { newName }),\n",
    ")"
   ],
   "outputs": [],
   "execution_count": null
  },
  {
   "metadata": {},
   "cell_type": "markdown",
   "source": "# Last chance"
  },
  {
   "metadata": {},
   "cell_type": "markdown",
   "source": "## Unique 3 character strings from destinations that start with %"
  },
  {
   "metadata": {},
   "cell_type": "code",
   "source": "resourcesLinks.toListOf<LinkRow>().flatMap { \"%..\".toRegex().findAll(it.destination).map { it.groupValues } }.distinct()",
   "outputs": [],
   "execution_count": null
  },
  {
   "metadata": {},
   "cell_type": "markdown",
   "source": "## Compare Whirlpool manual note - original and rerender"
  },
  {
   "metadata": {},
   "cell_type": "code",
   "source": [
    "val whirlpoolText = markdownFiles\n",
    "    .single { it.name == \"Whirlpool Refrigerator Model _GSF26C4EXY03 manual.md\" }\n",
    "    .readText()\n",
    "\n",
    "val node = parser.parse(whirlpoolText)\n",
    "val rendered = renderer.render(node)\n",
    "\n",
    "displayWithLabel(\"original\", whirlpoolText)\n",
    "displayWithLabel(\"rendered\", rendered)"
   ],
   "outputs": [],
   "execution_count": null
  },
  {
   "metadata": {},
   "cell_type": "markdown",
   "source": "## Front matter parsing example"
  },
  {
   "metadata": {
    "tags": []
   },
   "cell_type": "code",
   "source": [
    "val whirlpoolText = markdownFiles.single { it.name == \"Whirlpool Refrigerator Model _GSF26C4EXY03 manual.md\" }.readText()\n",
    "\n",
    "val extensions = setOf<Extension>(YamlFrontMatterExtension.create())\n",
    "val node = Parser\n",
    "    .builder()\n",
    "    .extensions(extensions)\n",
    "    .build()\n",
    "    .parse(whirlpoolText)\n",
    "\n",
    "val visitor = object : YamlFrontMatterVisitor() {\n",
    "    override fun visit(customNode: CustomNode) {\n",
    "        super.visit(customNode)\n",
    "    }\n",
    "}.also(node::accept)\n",
    "\n",
    "val rendered = MarkdownRenderer.builder().extensions(extensions).build().render(node)\n",
    "\n",
    "displayWithLabel(\"Front matter\", visitor.data)\n",
    "displayWithLabel(\"Original text\", whirlpoolText)\n",
    "displayWithLabel(\"Re-rendered text\", rendered)\n"
   ],
   "outputs": [],
   "execution_count": null
  },
  {
   "metadata": {},
   "cell_type": "markdown",
   "source": "## Compare original to rendered"
  },
  {
   "metadata": {},
   "cell_type": "code",
   "source": [
    "data class Comparison(val file: String, val original: String, val rendered: String, val match: Boolean)\n",
    "val comparisons = markdownFiles.map { file ->\n",
    "    val original = file.readText()\n",
    "    val node = parser.parse(original)\n",
    "    val rendered = renderer.render(node)\n",
    "    Comparison(file.name, original, rendered, original == rendered)\n",
    "}\n",
    "\n",
    "comparisons.toDataFrame()\n",
    "    .filter { it[Comparison::original].contains(\"- [ ]\") }"
   ],
   "outputs": [],
   "execution_count": null
  },
  {
   "metadata": {},
   "cell_type": "markdown",
   "source": "## Prove to myself that url encode/decode works fine"
  },
  {
   "metadata": {},
   "cell_type": "code",
   "source": [
    "val what = dataFrameOf(\"original string\")(\n",
    "    \"simple\",\n",
    "    \"has spaces\",\n",
    "    \"has (all) [kinds] `of` *special* characters !@#$%^&*()\",\n",
    "    \"has + pluses + ok?\"\n",
    ")\n",
    "what\n"
   ],
   "outputs": [],
   "execution_count": null
  },
  {
   "metadata": {},
   "cell_type": "code",
   "source": [
    "what.add(\"encoded\") {\n",
    "//    URLEncoder.encode(`original string`, Charsets.UTF_8)\n",
    "    `original string`.urlEncodeSpacesAndParens()\n",
    "}\n",
    "    .select {\n",
    "        `original string` and\n",
    "                col(\"encoded\") and\n",
    "                col<String>(\"encoded\")\n",
    "                    .map {\n",
    "//                        URLDecoder.decode(it, Charsets.UTF_8)\n",
    "                        it.urlDecodeSpacesAndParens()\n",
    "                    }\n",
    "                    .named(\"decoded\")\n",
    "    }.add(\"same?\") { `original string` == it.get(\"decoded\") }"
   ],
   "outputs": [],
   "execution_count": null
  }
 ],
 "metadata": {
  "kernelspec": {
   "display_name": "Kotlin",
   "language": "kotlin",
   "name": "kotlin"
  },
  "language_info": {
   "name": "kotlin",
   "version": "1.9.23",
   "mimetype": "text/x-kotlin",
   "file_extension": ".kt",
   "pygments_lexer": "kotlin",
   "codemirror_mode": "text/x-kotlin",
   "nbconvert_exporter": ""
  },
  "ktnbPluginMetadata": {
   "projectDependencies": [
    "joplin-to-obsidian-fixer.test"
   ],
   "projectLibraries": false
  }
 },
 "nbformat": 4,
 "nbformat_minor": 0
}
